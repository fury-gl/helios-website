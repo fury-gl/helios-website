{
  "cells": [
    {
      "cell_type": "code",
      "execution_count": null,
      "metadata": {
        "collapsed": false
      },
      "outputs": [],
      "source": [
        "%matplotlib inline"
      ]
    },
    {
      "cell_type": "markdown",
      "metadata": {},
      "source": [
        "\n# Force-Directed: SBM Model and 2d Layout\n\nThe goal of this example is to show how to use the Helios Network\ndraw with the Helios Force-Directed. To run this you should\nhave python 3.8 or greater.\n"
      ]
    },
    {
      "cell_type": "code",
      "execution_count": null,
      "metadata": {
        "collapsed": false
      },
      "outputs": [],
      "source": [
        "import numpy as np\nimport networkx as nx\nimport argparse\nfrom fury.window import record\n\nfrom helios import NetworkDraw\nfrom helios.layouts import HeliosFr\n\nparser = argparse.ArgumentParser()\nparser.add_argument(\n    '--interactive', dest='interactive', default=True, action='store_false')\nargs = parser.parse_args()\n\ninteractive = args.interactive\nsize = 1000\ns = size\nsizes = [s, s, s]\nprobs = np.array(\n    [[0.45, 0.05, 0.02], [0.05, 0.45, 0.07], [0.02, 0.07, 0.40]])/10\ng = nx.stochastic_block_model(sizes, probs, seed=0)\n\nnum_nodes = len(g)\nedges = []\nfor source, target in g.edges():\n    edges.append([source, target])\nedges = np.array(edges)\n\ncolors_by_block = [[1, 0, 0], [0, 1, 0], [0, 0, 1]]\n\nedge_colors = []\nfor source, target in g.edges():\n    c0 = colors_by_block[source//s]\n    c1 = colors_by_block[target//s]\n    edge_colors += [c0, c1]\n\ncolors_by_block = [[1, 0, 0], [0, 1, 0], [0, 0, 1]]\ncolors = np.array(\n    [colors_by_block[i//s]\n     for i in range(len(g))]).astype('float64')\n\nmarkers = [['o', 's', 'd'][i//s] for i in range(len(g))]\nedge_colors = np.array(edge_colors).astype('float64')\n\ncenters = np.random.normal(size=(len(g), 2))\n\nnetwork_draw = NetworkDraw(\n        positions=centers,\n        edges=edges,\n        colors=colors,\n        scales=1,\n        node_edge_width=0,\n        marker=markers,\n        edge_line_color=edge_colors,\n        window_size=(600, 600)\n)\n\n\nlayout = HeliosFr(\n    edges, network_draw, update_interval_workers=0, max_workers=2)"
      ]
    },
    {
      "cell_type": "markdown",
      "metadata": {},
      "source": [
        "The final step ! Visualize and save the result of our creation! Please,\nswitch interactive variable to True if you want to visualize it.\n\n"
      ]
    },
    {
      "cell_type": "code",
      "execution_count": null,
      "metadata": {
        "collapsed": false
      },
      "outputs": [],
      "source": [
        "if not interactive:\n    layout.steps(100)\n    record(\n        network_draw.showm.scene, out_path='viz_helios2d.png', size=(600, 600))\n\nif interactive:\n    layout.start()\n    network_draw.showm.initialize()\n    network_draw.showm.start()"
      ]
    }
  ],
  "metadata": {
    "kernelspec": {
      "display_name": "Python 3",
      "language": "python",
      "name": "python3"
    },
    "language_info": {
      "codemirror_mode": {
        "name": "ipython",
        "version": 3
      },
      "file_extension": ".py",
      "mimetype": "text/x-python",
      "name": "python",
      "nbconvert_exporter": "python",
      "pygments_lexer": "ipython3",
      "version": "3.8.5"
    }
  },
  "nbformat": 4,
  "nbformat_minor": 0
}