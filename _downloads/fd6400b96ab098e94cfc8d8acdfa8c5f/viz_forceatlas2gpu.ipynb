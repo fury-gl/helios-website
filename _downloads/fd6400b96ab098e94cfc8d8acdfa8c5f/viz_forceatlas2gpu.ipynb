{
  "cells": [
    {
      "cell_type": "code",
      "execution_count": null,
      "metadata": {
        "collapsed": false
      },
      "outputs": [],
      "source": [
        "%matplotlib inline"
      ]
    },
    {
      "cell_type": "markdown",
      "metadata": {},
      "source": [
        "\n# ForceAtlas2: SBM Model\n\nThe goal of this example is to show how to use the Helios Network\ndraw with the ForceAtlas2 from cugraph. To run this you should\nhave python 3.8 or greater and cudf/cugraph installed.\n"
      ]
    },
    {
      "cell_type": "code",
      "execution_count": null,
      "metadata": {
        "collapsed": false
      },
      "outputs": [],
      "source": [
        "import numpy as np\nimport networkx as nx\nimport time\nimport argparse\nfrom fury.window import record\n\nfrom helios import NetworkDraw\nfrom helios.layouts import ForceAtlas2\nfrom helios.layouts.forceatlas2gpu import CUDF_AVAILABLE\n\nparser = argparse.ArgumentParser()\nparser.add_argument(\n    '--interactive', dest='interactive', default=True, action='store_false')\nargs = parser.parse_args()\n\ninteractive = args.interactive\nsize = 1000\ns = size\nsizes = [s, s, s]\nprobs = np.array(\n    [[0.45, 0.05, 0.02], [0.05, 0.45, 0.07], [0.02, 0.07, 0.40]])/10\ng = nx.stochastic_block_model(sizes, probs, seed=0)\n\nnum_nodes = len(g)\nedges = []\nfor source, target in g.edges():\n    edges.append([source, target])\nedges = np.array(edges)\n\ncolors_by_block = [[1, 0, 0], [0, 1, 0], [0, 0, 1]]\n\nedge_colors = []\nfor source, target in g.edges():\n    c0 = colors_by_block[source//s]\n    c1 = colors_by_block[target//s]\n    edge_colors += [c0, c1]\n\ncolors_by_block = [[1, 0, 0], [0, 1, 0], [0, 0, 1]]\ncolors = np.array(\n    [colors_by_block[i//s]\n     for i in range(len(g))]).astype('float64')\n\nmarkers = [['o', 's', 'd'][i//s] for i in range(len(g))]\nedge_colors = np.array(edge_colors).astype('float64')\n\ncenters = np.random.normal(size=(len(g), 2))\n\nnetwork_draw = NetworkDraw(\n        positions=centers,\n        edges=edges,\n        colors=colors,\n        scales=1,\n        node_edge_width=0,\n        marker=markers,\n        edge_line_color=edge_colors,\n        window_size=(600, 600)\n)\n\nif not CUDF_AVAILABLE:\n    print('To run this example we should install cugraph first')\nelse:\n    forceatlas2 = ForceAtlas2(\n        edges, network_draw,\n    )\n    if not interactive:\n        forceatlas2.start(3, 1, 300, False)\n        time.sleep(10)\n        network_draw.refresh()\n        forceatlas2.stop()\n    else:\n        forceatlas2.start(\n            3, 300, 1,\n            record_positions=True, without_iren_start=False)\n    record(\n        network_draw.showm.scene,\n        out_path='viz_forceatlas2gpu.png', size=(600, 600))\n\nif interactive:\n    network_draw.showm.initialize()\n    network_draw.showm.start()"
      ]
    }
  ],
  "metadata": {
    "kernelspec": {
      "display_name": "Python 3",
      "language": "python",
      "name": "python3"
    },
    "language_info": {
      "codemirror_mode": {
        "name": "ipython",
        "version": 3
      },
      "file_extension": ".py",
      "mimetype": "text/x-python",
      "name": "python",
      "nbconvert_exporter": "python",
      "pygments_lexer": "ipython3",
      "version": "3.8.5"
    }
  },
  "nbformat": 4,
  "nbformat_minor": 0
}